{
 "cells": [
  {
   "cell_type": "markdown",
   "id": "7bfe9a49-0060-4d21-aa40-10a3df15dd58",
   "metadata": {},
   "source": [
    "$\\textbf{ Effective Permittivity Computing for TM}_{\\Large mn}$"
   ]
  },
  {
   "cell_type": "markdown",
   "id": "50193d74-19c7-4db2-a3f0-0cd142e3af84",
   "metadata": {},
   "source": [
    "$\\text{In Microstrip Antenna Patch Rectangular}$"
   ]
  },
  {
   "cell_type": "markdown",
   "id": "4cbb82fa-e04f-4362-aac1-422bc9ce746a",
   "metadata": {},
   "source": [
    "$\\circ \\,\\,\\, \\text{Effective Relative Permittivity:}$"
   ]
  },
  {
   "cell_type": "markdown",
   "id": "087d35aa-3b4f-4617-824e-13636a46263c",
   "metadata": {},
   "source": [
    "$$\\epsilon_{ef}(L) = \\frac{\\epsilon_r+1}{2} + \\frac{\\epsilon_r-1}{2}\\frac{1}{\\sqrt{1+12(h/L)}},$$\n",
    "$$\\epsilon_{ef}(W) = \\frac{\\epsilon_r+1}{2} + \\frac{\\epsilon_r-1}{2}\\frac{1}{\\sqrt{1+12(h/W)}},$$\n",
    "$\\text{If} \\,\\, m,n \\neq 0,0:$\n",
    "$$\\epsilon_{ef}(L,W) = \\frac{\\epsilon_{ef}(L)\\epsilon_{ef}(W)}{\\epsilon_r}.$$"
   ]
  },
  {
   "cell_type": "markdown",
   "id": "1d401d21-424c-4345-994d-4354cf37fca1",
   "metadata": {},
   "source": [
    "$\\circ \\,\\,\\, \\text{Energy's Leakage (extended length):}$"
   ]
  },
  {
   "cell_type": "markdown",
   "id": "9b97f41f-ddc4-40d4-b15f-3906d600f706",
   "metadata": {},
   "source": [
    "$$\\Delta W = 0.412 h\\frac{(\\epsilon_{ef}(W) + 0.3) \\big(\\frac{W}{h} + 0.264\\big)}{(\\epsilon_{ef}(W) - 0.258) \\big(\\frac{W}{h} + 0.8 \\big)}$$\n",
    "$$\\Delta L = 0.412 h\\frac{(\\epsilon_{ef}(L) + 0.3) \\big(\\frac{L}{h} + 0.264\\big)}{(\\epsilon_{ef}(L) - 0.258) \\big(\\frac{L}{h} + 0.8 \\big)}$$"
   ]
  },
  {
   "cell_type": "markdown",
   "id": "0c1053db-2e0a-4b15-a5f3-762944d30f2a",
   "metadata": {},
   "source": [
    "$\\circ \\,\\,\\, \\text{Frequency Resonance:}$\n",
    "\n",
    "$$(f_r)_{mn}=\\frac{c_0}{2\\sqrt{\\epsilon_{ef}(W,L)}}\\sqrt{\\Bigg(\\frac{m}{L+2\\Delta L}\\Bigg)^2+\\Bigg(\\frac{n}{W+2\\Delta W}\\Bigg)^2}$$"
   ]
  },
  {
   "cell_type": "code",
   "execution_count": 2,
   "id": "2396bfa3-0f36-42a4-82c4-7ffe8c97168c",
   "metadata": {},
   "outputs": [],
   "source": [
    "import numpy as np\n",
    "def high_order_tm(m,n,L,W,e_r,h):\n",
    "    c0 = 2.99702547e8 # Approximatilly Light velocity in air\n",
    "    # Computing effective dieletric constant\n",
    "    if m == 0 and n != 0:\n",
    "        eef_L = (e_r+1)/2 + ((e_r-1)/2)*(1/np.sqrt(1+12*(1/L/h)))\n",
    "        eef = eef_L\n",
    "        print(\"eef:\\n\", eef)\n",
    "    elif m != 0 and n == 0:\n",
    "        eef_W = (e_r+1)/2 + ((e_r-1)/2)*(1/np.sqrt(1+12*(1/W/h)))\n",
    "        eef = eef_W\n",
    "        print(\"eef:\\n\", eef)\n",
    "    elif m != 0  and n != 0:\n",
    "        eef_W = (e_r+1)/2 + ((e_r-1)/2)*(1/np.sqrt(1+12*(1/W/h)))\n",
    "        eef_L = (e_r+1)/2 + ((e_r-1)/2)*(1/np.sqrt(1+12*(1/L/h)))\n",
    "        eef = (eef_L*eef_W)/e_r\n",
    "        print(\"eef_L:\\n\", eef_L)\n",
    "        print(\"eef_W:\\n\", eef_W)\n",
    "        print(\"eef:\\n\", eef)\n",
    "    # Increasing the edge's resonator due to fringe effect\n",
    "    if m == 0 and n != 0:\n",
    "        delta_L = 0.412*h*((eef_L + 0.3)*(L/h + 0.264))/((eef_L - 0.258)*(L/h + 0.8))\n",
    "        delta_W = 0\n",
    "        print(\"delta_L [mm]:\\n\",delta_L*1e3)\n",
    "    elif m != 0 and n == 0:\n",
    "        delta_W = 0.412*h*((eef_W + 0.3)*(W/h + 0.264))/((eef_W - 0.258)*(W/h + 0.8))\n",
    "        delta_L = 0\n",
    "        print(\"delta_W [mm]:\\n\",delta_W*1e3)\n",
    "    elif m != 0  and n != 0:\n",
    "        delta_W = 0.412*h*((eef_W + 0.3)*(W/h + 0.264))/((eef_W - 0.258)*(W/h + 0.8))\n",
    "        delta_L = 0.412*h*((eef_L + 0.3)*(L/h + 0.264))/((eef_L - 0.258)*(L/h + 0.8))\n",
    "        print(\"delta_L [mm]:\\n\",delta_L*1e3)\n",
    "        print(\"delta_W [mm]:\\n\",delta_W*1e3)\n",
    "    # Frequency resonance\n",
    "    fr_mn = (c0/(2*np.sqrt(eef)))*np.sqrt((m/(L+2*delta_L))**2+(n/(W+2*delta_W))**2)\n",
    "    return print(\"freq [GHz]:\\n\",fr_mn/1e9)"
   ]
  },
  {
   "cell_type": "code",
   "execution_count": 3,
   "id": "4508594f-ad81-4731-8f5d-bd90aa93db8b",
   "metadata": {},
   "outputs": [
    {
     "name": "stdout",
     "output_type": "stream",
     "text": [
      "eef_L:\n",
      " 1.6016837391943384\n",
      "eef_W:\n",
      " 1.6016837391943384\n",
      "eef:\n",
      " 1.166086727454344\n",
      "delta_L [mm]:\n",
      " 0.9057170508126537\n",
      "delta_W [mm]:\n",
      " 0.9057170508126537\n",
      "freq [GHz]:\n",
      " 6.349962866852452\n"
     ]
    }
   ],
   "source": [
    "n = 2 # Higher-Order n and m at TMmn\n",
    "m = 2\n",
    "L = 60e-3 # Patch length\n",
    "W = 60e-3 # Patch width\n",
    "e_r = 2.2\n",
    "h = 1.575e-3\n",
    "high_order_tm(m,n,L,W,e_r,h)"
   ]
  },
  {
   "cell_type": "code",
   "execution_count": 7,
   "id": "2bf73e6e-2467-4e4f-b6ba-99bf3146f6a1",
   "metadata": {},
   "outputs": [
    {
     "name": "stdout",
     "output_type": "stream",
     "text": [
      "max(eff):\n",
      " 1.1681\n",
      "min(eff):\n",
      " 1.1636\n"
     ]
    },
    {
     "data": {
      "image/png": "[encoded data removed]",
      "text/plain": [
       "<Figure size 500x300 with 2 Axes>"
      ]
     },
     "metadata": {},
     "output_type": "display_data"
    }
   ],
   "source": [
    "import numpy as np\n",
    "import matplotlib.pyplot as plt\n",
    "from matplotlib.ticker import FuncFormatter\n",
    "num = 201\n",
    "L_v = np.array(np.linspace(0.0001,200,num)*1e-3) # Lenght vector in mm\n",
    "W_v = np.array(np.linspace(0.0001,200,num)*1e-3) # Width vector in mm\n",
    "L_mesh,W_mesh = np.meshgrid(L_v,W_v) # Creating a mesh-matrix with intial vectors\n",
    "# Effective Relative Permittivity multidimensional compute\n",
    "eff = ((e_r+1)/2 + ((e_r-1)/2)*(1/np.sqrt(1+12*(1/W_mesh/h))))*((e_r+1)/2 + ((e_r-1)/2)*(1/np.sqrt(1+12*(1/L_mesh/h))))/e_r\n",
    "max_eff = np.max(eff) # Maximum reference of effective rel. permit.\n",
    "min_eff = np.min(eff) # Minimum reference\n",
    "print(f\"max(eff):\\n {max_eff:.4f}\")\n",
    "print(f\"min(eff):\\n {min_eff:.4f}\")\n",
    "plt.figure(figsize=(5,3)) # Plotting contour\n",
    "plt.contourf(L_mesh*1e3,W_mesh*1e3,eff,cmap='viridis')\n",
    "plt.xlabel(\"Width, $W$ [mm]\")\n",
    "plt.ylabel(\"Length, $L$ [mm]\")\n",
    "ticks = [min_eff,1.165,1.166,1.167,max_eff]\n",
    "cbar = plt.colorbar() # Scale colorbar with ticks reference\n",
    "cbar.set_ticks(ticks)\n",
    "def format_ticks(x,pos): # We have defined a function for arounded values (into colorbar)\n",
    "    return f\"{x:.3f}\"\n",
    "cbar.ax.yaxis.set_major_formatter(FuncFormatter(format_ticks))\n",
    "cbar.set_label(\"Eff. Rel. Permittivity, $\\epsilon_{ef}$\") # Set label for colorbar\n",
    "plt.show()"
   ]
  }
 ],
 "metadata": {
  "kernelspec": {
   "display_name": "Python 3 (ipykernel)",
   "language": "python",
   "name": "python3"
  },
  "language_info": {
   "codemirror_mode": {
    "name": "ipython",
    "version": 3
   },
   "file_extension": ".py",
   "mimetype": "text/x-python",
   "name": "python",
   "nbconvert_exporter": "python",
   "pygments_lexer": "ipython3",
   "version": "3.11.5"
  }
 },
 "nbformat": 4,
 "nbformat_minor": 5
}
